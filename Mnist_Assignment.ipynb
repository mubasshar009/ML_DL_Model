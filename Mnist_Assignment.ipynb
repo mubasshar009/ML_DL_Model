{
  "nbformat": 4,
  "nbformat_minor": 0,
  "metadata": {
    "colab": {
      "name": "Mnist_Assignment.ipynb",
      "provenance": [],
      "authorship_tag": "ABX9TyOhz/jPbbi/2LNVIi0q1XhC",
      "include_colab_link": true
    },
    "kernelspec": {
      "name": "python3",
      "display_name": "Python 3"
    },
    "accelerator": "GPU"
  },
  "cells": [
    {
      "cell_type": "markdown",
      "metadata": {
        "id": "view-in-github",
        "colab_type": "text"
      },
      "source": [
        "<a href=\"https://colab.research.google.com/github/mubasshar009/ML_DL_Model/blob/master/Mnist_Assignment.ipynb\" target=\"_parent\"><img src=\"https://colab.research.google.com/assets/colab-badge.svg\" alt=\"Open In Colab\"/></a>"
      ]
    },
    {
      "cell_type": "code",
      "metadata": {
        "id": "4kktkhPWdenf"
      },
      "source": [
        "from keras.models import Sequential\r\n",
        "from keras.layers import Dense,Conv2D,MaxPooling2D,Flatten\r\n",
        "from keras.optimizers import RMSprop,Adam\r\n",
        "from keras.losses import categorical_crossentropy\r\n",
        "from keras.utils import to_categorical"
      ],
      "execution_count": 100,
      "outputs": []
    },
    {
      "cell_type": "markdown",
      "metadata": {
        "id": "8WRCmaEIdk1E"
      },
      "source": [
        "# 1. Download dataset\r\n"
      ]
    },
    {
      "cell_type": "code",
      "metadata": {
        "id": "_82daclEezuE"
      },
      "source": [
        "from keras.datasets import mnist\r\n",
        "(TrainImages,TrainLabels),(TestImages,TestLabels) = mnist.load_data()"
      ],
      "execution_count": 101,
      "outputs": []
    },
    {
      "cell_type": "markdown",
      "metadata": {
        "id": "6KCLe9ONfWI0"
      },
      "source": [
        "# 2.Check the size and plot the images"
      ]
    },
    {
      "cell_type": "code",
      "metadata": {
        "id": "XTYQu9bsfMWp",
        "outputId": "13abe4db-9415-44d4-adc7-7b2fb67d5c62",
        "colab": {
          "base_uri": "https://localhost:8080/"
        }
      },
      "source": [
        "print(f\"Size Of Train Images: {TrainImages.shape}\")\r\n",
        "print(f\"Size Of Test Images: {TestImages.shape}\")\r\n",
        "print(f\"Size Of Train Labels: {TrainLabels.shape}\")\r\n",
        "print(f\"Size Of Test Labels: {TestLabels.shape}\")\r\n"
      ],
      "execution_count": 51,
      "outputs": [
        {
          "output_type": "stream",
          "text": [
            "Size Of Train Images: (60000, 28, 28)\n",
            "Size Of Test Images: (10000, 28, 28)\n",
            "Size Of Train Labels: (60000,)\n",
            "Size Of Test Labels: (10000,)\n"
          ],
          "name": "stdout"
        }
      ]
    },
    {
      "cell_type": "code",
      "metadata": {
        "id": "Z3jZjWesgr-h",
        "outputId": "74ede89c-92b5-4a1f-c877-2d6531a97345",
        "colab": {
          "base_uri": "https://localhost:8080/",
          "height": 282
        }
      },
      "source": [
        "import matplotlib.pyplot as plt\r\n",
        "image = TrainImages[14]\r\n",
        "label = TrainLabels[14]\r\n",
        "print(f\"Label :{label}\")\r\n",
        "plt.imshow(image,cmap = 'gray')\r\n",
        "plt.show()"
      ],
      "execution_count": 52,
      "outputs": [
        {
          "output_type": "stream",
          "text": [
            "Label :1\n"
          ],
          "name": "stdout"
        },
        {
          "output_type": "display_data",
          "data": {
            "image/png": "[encoded data removed]",
            "text/plain": [
              "<Figure size 432x288 with 1 Axes>"
            ]
          },
          "metadata": {
            "tags": [],
            "needs_background": "light"
          }
        }
      ]
    },
    {
      "cell_type": "markdown",
      "metadata": {
        "id": "6wcAHhidhOW-"
      },
      "source": [
        "# 3. Apply one hot encoding, float conversion and normalization"
      ]
    },
    {
      "cell_type": "code",
      "metadata": {
        "id": "zhjyRe5xhDTB"
      },
      "source": [
        "TrainImages = TrainImages.reshape((60000,28*28))\r\n",
        "TrainImages = TrainImages.astype('float32') / 255\r\n",
        "TestImages = TestImages.reshape((10000,28*28))\r\n",
        "TestImages = TestImages.astype('float32') / 255\r\n",
        "\r\n",
        "\r\n",
        "TrainLabels = to_categorical(TrainLabels)\r\n",
        "TestLabels = to_categorical(TestLabels)\r\n"
      ],
      "execution_count": 80,
      "outputs": []
    },
    {
      "cell_type": "markdown",
      "metadata": {
        "id": "PX2cpovJ65pt"
      },
      "source": [
        "# 4.Define your CNN architecture"
      ]
    },
    {
      "cell_type": "code",
      "metadata": {
        "id": "tInxKQHz6uKN",
        "outputId": "7169cb27-5135-48f0-d333-810b73a9f3aa",
        "colab": {
          "base_uri": "https://localhost:8080/"
        }
      },
      "source": [
        "small_network = Sequential()\r\n",
        "small_network.add(Dense(16,activation = 'relu',input_shape = (28 * 28,)))\r\n",
        "small_network.add(Dense(32,activation = 'relu'))\r\n",
        "small_network.add(Dense(64,activation = 'relu'))\r\n",
        "small_network.add(Dense(10,activation = 'softmax'))\r\n",
        "small_network.summary()"
      ],
      "execution_count": 54,
      "outputs": [
        {
          "output_type": "stream",
          "text": [
            "Model: \"sequential_4\"\n",
            "_________________________________________________________________\n",
            "Layer (type)                 Output Shape              Param #   \n",
            "=================================================================\n",
            "dense_18 (Dense)             (None, 16)                12560     \n",
            "_________________________________________________________________\n",
            "dense_19 (Dense)             (None, 32)                544       \n",
            "_________________________________________________________________\n",
            "dense_20 (Dense)             (None, 64)                2112      \n",
            "_________________________________________________________________\n",
            "dense_21 (Dense)             (None, 10)                650       \n",
            "=================================================================\n",
            "Total params: 15,866\n",
            "Trainable params: 15,866\n",
            "Non-trainable params: 0\n",
            "_________________________________________________________________\n"
          ],
          "name": "stdout"
        }
      ]
    },
    {
      "cell_type": "markdown",
      "metadata": {
        "id": "6_fowFqk_HrV"
      },
      "source": [
        "# Compilation"
      ]
    },
    {
      "cell_type": "code",
      "metadata": {
        "id": "99I71fyj_A6u"
      },
      "source": [
        "small_network.compile(\r\n",
        "    optimizer = 'rmsprop',\r\n",
        "    loss = categorical_crossentropy,\r\n",
        "    metrics = ['acc']\r\n",
        ")"
      ],
      "execution_count": 55,
      "outputs": []
    },
    {
      "cell_type": "markdown",
      "metadata": {
        "id": "Kx-iPvBBCcw3"
      },
      "source": [
        "# Training"
      ]
    },
    {
      "cell_type": "code",
      "metadata": {
        "id": "z8Vta_Fl_YIl",
        "outputId": "67d52ef2-5368-4ae8-c29f-57eacea67b33",
        "colab": {
          "base_uri": "https://localhost:8080/"
        }
      },
      "source": [
        "small_network.fit(TrainImages,TrainLabels,batch_size=64,epochs = 10)"
      ],
      "execution_count": 56,
      "outputs": [
        {
          "output_type": "stream",
          "text": [
            "Epoch 1/10\n",
            "938/938 [==============================] - 4s 3ms/step - loss: 0.7233 - acc: 0.7906\n",
            "Epoch 2/10\n",
            "938/938 [==============================] - 3s 3ms/step - loss: 0.2471 - acc: 0.9273\n",
            "Epoch 3/10\n",
            "938/938 [==============================] - 3s 3ms/step - loss: 0.2065 - acc: 0.9393\n",
            "Epoch 4/10\n",
            "938/938 [==============================] - 3s 3ms/step - loss: 0.1690 - acc: 0.9488\n",
            "Epoch 5/10\n",
            "938/938 [==============================] - 3s 3ms/step - loss: 0.1557 - acc: 0.9526\n",
            "Epoch 6/10\n",
            "938/938 [==============================] - 3s 4ms/step - loss: 0.1384 - acc: 0.9579\n",
            "Epoch 7/10\n",
            "938/938 [==============================] - 3s 3ms/step - loss: 0.1289 - acc: 0.9602\n",
            "Epoch 8/10\n",
            "938/938 [==============================] - 3s 3ms/step - loss: 0.1240 - acc: 0.9633\n",
            "Epoch 9/10\n",
            "938/938 [==============================] - 3s 3ms/step - loss: 0.1131 - acc: 0.9666\n",
            "Epoch 10/10\n",
            "938/938 [==============================] - 3s 3ms/step - loss: 0.1095 - acc: 0.9664\n"
          ],
          "name": "stdout"
        },
        {
          "output_type": "execute_result",
          "data": {
            "text/plain": [
              "<tensorflow.python.keras.callbacks.History at 0x7f725176b160>"
            ]
          },
          "metadata": {
            "tags": []
          },
          "execution_count": 56
        }
      ]
    },
    {
      "cell_type": "markdown",
      "metadata": {
        "id": "yAe6OKtpFq9o"
      },
      "source": [
        "# Model_2"
      ]
    },
    {
      "cell_type": "code",
      "metadata": {
        "id": "qZ54MuY0Fpor",
        "outputId": "609d3566-fd2d-43e6-f744-ca994e947f90",
        "colab": {
          "base_uri": "https://localhost:8080/"
        }
      },
      "source": [
        "large_Dense_network = Sequential()\r\n",
        "large_Dense_network.add(Dense(128,activation = 'relu',input_shape = (60000,28*28)))\r\n",
        "large_Dense_network.add(Dense(256,activation = 'relu'))\r\n",
        "large_Dense_network.add(Dense(512,activation = 'relu'))\r\n",
        "large_Dense_network.add(Dense(1024,activation = 'relu'))\r\n",
        "large_Dense_network.add(Dense(10,activation = 'softmax'))\r\n",
        "large_Dense_network.summary()"
      ],
      "execution_count": 57,
      "outputs": [
        {
          "output_type": "stream",
          "text": [
            "Model: \"sequential_5\"\n",
            "_________________________________________________________________\n",
            "Layer (type)                 Output Shape              Param #   \n",
            "=================================================================\n",
            "dense_22 (Dense)             (None, 60000, 128)        100480    \n",
            "_________________________________________________________________\n",
            "dense_23 (Dense)             (None, 60000, 256)        33024     \n",
            "_________________________________________________________________\n",
            "dense_24 (Dense)             (None, 60000, 512)        131584    \n",
            "_________________________________________________________________\n",
            "dense_25 (Dense)             (None, 60000, 1024)       525312    \n",
            "_________________________________________________________________\n",
            "dense_26 (Dense)             (None, 60000, 10)         10250     \n",
            "=================================================================\n",
            "Total params: 800,650\n",
            "Trainable params: 800,650\n",
            "Non-trainable params: 0\n",
            "_________________________________________________________________\n"
          ],
          "name": "stdout"
        }
      ]
    },
    {
      "cell_type": "markdown",
      "metadata": {
        "id": "SM3sbjkEGgnr"
      },
      "source": [
        "# Compilation For Large Dense Network\r\n"
      ]
    },
    {
      "cell_type": "code",
      "metadata": {
        "id": "ILAMRslFGamB"
      },
      "source": [
        "large_Dense_network.compile(loss='categorical_crossentropy',optimizer=RMSprop(lr = 1e-4),metrics=['acc'])"
      ],
      "execution_count": 64,
      "outputs": []
    },
    {
      "cell_type": "code",
      "metadata": {
        "id": "7WONRP7lJKnq",
        "outputId": "420c0b31-b5a3-48ee-ca2b-5f39a15e71e6",
        "colab": {
          "base_uri": "https://localhost:8080/"
        }
      },
      "source": [
        "# Training\r\n",
        "large_Dense_network.fit(TrainImages,TrainLabels,batch_size=64,epochs = 10)"
      ],
      "execution_count": 65,
      "outputs": [
        {
          "output_type": "stream",
          "text": [
            "Epoch 1/10\n",
            "WARNING:tensorflow:Model was constructed with shape (None, 60000, 784) for input KerasTensor(type_spec=TensorSpec(shape=(None, 60000, 784), dtype=tf.float32, name='dense_22_input'), name='dense_22_input', description=\"created by layer 'dense_22_input'\"), but it was called on an input with incompatible shape (None, 784).\n",
            "WARNING:tensorflow:Model was constructed with shape (None, 60000, 784) for input KerasTensor(type_spec=TensorSpec(shape=(None, 60000, 784), dtype=tf.float32, name='dense_22_input'), name='dense_22_input', description=\"created by layer 'dense_22_input'\"), but it was called on an input with incompatible shape (None, 784).\n",
            "938/938 [==============================] - 4s 4ms/step - loss: 0.7676 - acc: 0.8000\n",
            "Epoch 2/10\n",
            "938/938 [==============================] - 3s 4ms/step - loss: 0.2076 - acc: 0.9381\n",
            "Epoch 3/10\n",
            "938/938 [==============================] - 3s 4ms/step - loss: 0.1474 - acc: 0.9566\n",
            "Epoch 4/10\n",
            "938/938 [==============================] - 3s 4ms/step - loss: 0.1137 - acc: 0.9663\n",
            "Epoch 5/10\n",
            "938/938 [==============================] - 3s 4ms/step - loss: 0.0947 - acc: 0.9715\n",
            "Epoch 6/10\n",
            "938/938 [==============================] - 3s 3ms/step - loss: 0.0761 - acc: 0.9770\n",
            "Epoch 7/10\n",
            "938/938 [==============================] - 3s 4ms/step - loss: 0.0658 - acc: 0.9801\n",
            "Epoch 8/10\n",
            "938/938 [==============================] - 3s 4ms/step - loss: 0.0554 - acc: 0.9833\n",
            "Epoch 9/10\n",
            "938/938 [==============================] - 3s 4ms/step - loss: 0.0454 - acc: 0.9862\n",
            "Epoch 10/10\n",
            "938/938 [==============================] - 4s 4ms/step - loss: 0.0393 - acc: 0.9880\n"
          ],
          "name": "stdout"
        },
        {
          "output_type": "execute_result",
          "data": {
            "text/plain": [
              "<tensorflow.python.keras.callbacks.History at 0x7f7250e44b38>"
            ]
          },
          "metadata": {
            "tags": []
          },
          "execution_count": 65
        }
      ]
    },
    {
      "cell_type": "markdown",
      "metadata": {
        "id": "T3ZhcVQ0JjhJ"
      },
      "source": [
        "# Model_03 CNN"
      ]
    },
    {
      "cell_type": "code",
      "metadata": {
        "id": "YfX29fhiJm9D",
        "outputId": "10dce4ca-427b-4122-93c4-ec5bacb6e937",
        "colab": {
          "base_uri": "https://localhost:8080/"
        }
      },
      "source": [
        "CNN = Sequential()\r\n",
        "CNN.add(Conv2D(32,(3,3),activation = 'relu',input_shape = (28,28,1)))\r\n",
        "CNN.add(MaxPooling2D((2,2)))\r\n",
        "CNN.add(Conv2D(64,(3,3),activation='relu'))\r\n",
        "CNN.add(MaxPooling2D((2,2)))\r\n",
        "CNN.add(Conv2D(128,(3,3),activation='relu'))\r\n",
        "CNN.add(MaxPooling2D((2,2)))\r\n",
        "CNN.add(Flatten())\r\n",
        "CNN.add(Dense(512,activation = 'relu'))\r\n",
        "CNN.add(Dense(10,activation = 'softmax'))\r\n",
        "CNN.summary()"
      ],
      "execution_count": 102,
      "outputs": [
        {
          "output_type": "stream",
          "text": [
            "Model: \"sequential_15\"\n",
            "_________________________________________________________________\n",
            "Layer (type)                 Output Shape              Param #   \n",
            "=================================================================\n",
            "conv2d_21 (Conv2D)           (None, 26, 26, 32)        320       \n",
            "_________________________________________________________________\n",
            "max_pooling2d_19 (MaxPooling (None, 13, 13, 32)        0         \n",
            "_________________________________________________________________\n",
            "conv2d_22 (Conv2D)           (None, 11, 11, 64)        18496     \n",
            "_________________________________________________________________\n",
            "max_pooling2d_20 (MaxPooling (None, 5, 5, 64)          0         \n",
            "_________________________________________________________________\n",
            "conv2d_23 (Conv2D)           (None, 3, 3, 128)         73856     \n",
            "_________________________________________________________________\n",
            "max_pooling2d_21 (MaxPooling (None, 1, 1, 128)         0         \n",
            "_________________________________________________________________\n",
            "flatten_6 (Flatten)          (None, 128)               0         \n",
            "_________________________________________________________________\n",
            "dense_36 (Dense)             (None, 512)               66048     \n",
            "_________________________________________________________________\n",
            "dense_37 (Dense)             (None, 10)                5130      \n",
            "=================================================================\n",
            "Total params: 163,850\n",
            "Trainable params: 163,850\n",
            "Non-trainable params: 0\n",
            "_________________________________________________________________\n"
          ],
          "name": "stdout"
        }
      ]
    },
    {
      "cell_type": "code",
      "metadata": {
        "id": "R2mChMepSI0b"
      },
      "source": [
        "TrainImages = TrainImages.reshape((60000,28,28,1))\r\n",
        "TrainImages = TrainImages.astype('float32') / 255\r\n",
        "TestImages = TestImages.reshape((10000,28,28,1))\r\n",
        "TestImages = TestImages.astype('float32') / 255\r\n",
        "\r\n",
        "\r\n",
        "TrainLabels = to_categorical(TrainLabels)\r\n",
        "TestLabels = to_categorical(TestLabels)\r\n"
      ],
      "execution_count": 103,
      "outputs": []
    },
    {
      "cell_type": "markdown",
      "metadata": {
        "id": "euvjpOPkK9KU"
      },
      "source": [
        "#Compilation of CNN Model"
      ]
    },
    {
      "cell_type": "code",
      "metadata": {
        "id": "H3MzxeRDLAFg"
      },
      "source": [
        "CNN.compile(loss = 'categorical_crossentropy',optimizer=RMSprop(lr = 1e-4),metrics=['acc'])\r\n"
      ],
      "execution_count": 104,
      "outputs": []
    },
    {
      "cell_type": "markdown",
      "metadata": {
        "id": "tHHwD4UmLNe5"
      },
      "source": [
        "# Training CNN"
      ]
    },
    {
      "cell_type": "code",
      "metadata": {
        "id": "CLvtuqnmLMqW",
        "outputId": "eacc9995-11f7-48f1-ffd2-7d00c8834d86",
        "colab": {
          "base_uri": "https://localhost:8080/"
        }
      },
      "source": [
        "CNN.fit(TrainImages,TrainLabels,batch_size=64,epochs = 18)"
      ],
      "execution_count": 105,
      "outputs": [
        {
          "output_type": "stream",
          "text": [
            "Epoch 1/18\n",
            "938/938 [==============================] - 5s 4ms/step - loss: 1.2532 - acc: 0.6731\n",
            "Epoch 2/18\n",
            "938/938 [==============================] - 4s 4ms/step - loss: 0.2346 - acc: 0.9292\n",
            "Epoch 3/18\n",
            "938/938 [==============================] - 4s 4ms/step - loss: 0.1612 - acc: 0.9511\n",
            "Epoch 4/18\n",
            "938/938 [==============================] - 4s 4ms/step - loss: 0.1272 - acc: 0.9606\n",
            "Epoch 5/18\n",
            "938/938 [==============================] - 4s 5ms/step - loss: 0.1068 - acc: 0.9672\n",
            "Epoch 6/18\n",
            "938/938 [==============================] - 4s 4ms/step - loss: 0.0921 - acc: 0.9723\n",
            "Epoch 7/18\n",
            "938/938 [==============================] - 4s 4ms/step - loss: 0.0814 - acc: 0.9763\n",
            "Epoch 8/18\n",
            "938/938 [==============================] - 4s 4ms/step - loss: 0.0702 - acc: 0.9780\n",
            "Epoch 9/18\n",
            "938/938 [==============================] - 4s 4ms/step - loss: 0.0645 - acc: 0.9803\n",
            "Epoch 10/18\n",
            "938/938 [==============================] - 4s 4ms/step - loss: 0.0628 - acc: 0.9815\n",
            "Epoch 11/18\n",
            "938/938 [==============================] - 4s 4ms/step - loss: 0.0525 - acc: 0.9835\n",
            "Epoch 12/18\n",
            "938/938 [==============================] - 4s 4ms/step - loss: 0.0485 - acc: 0.9855\n",
            "Epoch 13/18\n",
            "938/938 [==============================] - 4s 5ms/step - loss: 0.0490 - acc: 0.9855\n",
            "Epoch 14/18\n",
            "938/938 [==============================] - 4s 4ms/step - loss: 0.0440 - acc: 0.9860\n",
            "Epoch 15/18\n",
            "938/938 [==============================] - 4s 4ms/step - loss: 0.0396 - acc: 0.9879\n",
            "Epoch 16/18\n",
            "938/938 [==============================] - 4s 4ms/step - loss: 0.0385 - acc: 0.9878\n",
            "Epoch 17/18\n",
            "938/938 [==============================] - 4s 4ms/step - loss: 0.0347 - acc: 0.9893\n",
            "Epoch 18/18\n",
            "938/938 [==============================] - 4s 4ms/step - loss: 0.0328 - acc: 0.9903\n"
          ],
          "name": "stdout"
        },
        {
          "output_type": "execute_result",
          "data": {
            "text/plain": [
              "<tensorflow.python.keras.callbacks.History at 0x7f7252a0e9e8>"
            ]
          },
          "metadata": {
            "tags": []
          },
          "execution_count": 105
        }
      ]
    },
    {
      "cell_type": "markdown",
      "metadata": {
        "id": "n2gWyPFhTwPT"
      },
      "source": [
        "# Evaluation:"
      ]
    },
    {
      "cell_type": "code",
      "metadata": {
        "id": "fbOCdOh8FHi-",
        "outputId": "a6cb1bb8-573b-4900-f44f-e92c48e70151",
        "colab": {
          "base_uri": "https://localhost:8080/"
        }
      },
      "source": [
        "Test_Loss,Test_acc = CNN.evaluate(TestImages,TestLabels)\r\n",
        "print(\"Test_ACc :\" , np.round(Test_acc * 100), \"%\")"
      ],
      "execution_count": 109,
      "outputs": [
        {
          "output_type": "stream",
          "text": [
            "313/313 [==============================] - 1s 3ms/step - loss: 0.0556 - acc: 0.9835\n",
            "Test_ACc : 98.0 %\n"
          ],
          "name": "stdout"
        }
      ]
    },
    {
      "cell_type": "markdown",
      "metadata": {
        "id": "2laklDgVCxUd"
      },
      "source": [
        "# Prediction"
      ]
    },
    {
      "cell_type": "code",
      "metadata": {
        "id": "qB9HgjikCmxB",
        "outputId": "d8c371d2-ced3-4167-d4a1-2e2e47bfa16c",
        "colab": {
          "base_uri": "https://localhost:8080/"
        }
      },
      "source": [
        "import numpy as np\r\n",
        "Predict = CNN.predict(TestImages)[10]\r\n",
        "print(f\"{np.argmax(Predict)}\")"
      ],
      "execution_count": 110,
      "outputs": [
        {
          "output_type": "stream",
          "text": [
            "0\n"
          ],
          "name": "stdout"
        }
      ]
    },
    {
      "cell_type": "code",
      "metadata": {
        "id": "F8lGWlGnEeo5"
      },
      "source": [
        "from tensorflow.keras.datasets import mnist\r\n",
        "(TrainImages,TrainLabels),(TestImages,TestLabels) = mnist.load_data()"
      ],
      "execution_count": 111,
      "outputs": []
    },
    {
      "cell_type": "code",
      "metadata": {
        "id": "b1T7cia-FEhr",
        "outputId": "b262ecde-2e44-4ecb-d247-c7f18334f2c6",
        "colab": {
          "base_uri": "https://localhost:8080/",
          "height": 282
        }
      },
      "source": [
        "plt.imshow(TestImages[10],cmap = 'gray')"
      ],
      "execution_count": 112,
      "outputs": [
        {
          "output_type": "execute_result",
          "data": {
            "text/plain": [
              "<matplotlib.image.AxesImage at 0x7f724e5ff160>"
            ]
          },
          "metadata": {
            "tags": []
          },
          "execution_count": 112
        },
        {
          "output_type": "display_data",
          "data": {
            "image/png": "[encoded data removed]",
            "text/plain": [
              "<Figure size 432x288 with 1 Axes>"
            ]
          },
          "metadata": {
            "tags": [],
            "needs_background": "light"
          }
        }
      ]
    }
  ]
}